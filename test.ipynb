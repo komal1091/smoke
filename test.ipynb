{
 "cells": [
  {
   "cell_type": "code",
   "execution_count": 2,
   "metadata": {},
   "outputs": [
    {
     "ename": "ModuleNotFoundError",
     "evalue": "No module named 'model'",
     "output_type": "error",
     "traceback": [
      "\u001b[0;31m---------------------------------------------------------------------------\u001b[0m",
      "\u001b[0;31mModuleNotFoundError\u001b[0m                       Traceback (most recent call last)",
      "Cell \u001b[0;32mIn[2], line 5\u001b[0m\n\u001b[1;32m      3\u001b[0m \u001b[38;5;28;01mfrom\u001b[39;00m \u001b[38;5;21;01mtorchvision\u001b[39;00m \u001b[38;5;28;01mimport\u001b[39;00m transforms\n\u001b[1;32m      4\u001b[0m \u001b[38;5;66;03m# from dataset import CustomDataset  # Replace 'CustomDataset' with your dataset implementation\u001b[39;00m\n\u001b[0;32m----> 5\u001b[0m \u001b[38;5;28;01mfrom\u001b[39;00m \u001b[38;5;21;01mmodel\u001b[39;00m \u001b[38;5;28;01mimport\u001b[39;00m YOLOv5  \u001b[38;5;66;03m# Replace 'YOLOv5' with your model implementation\u001b[39;00m\n\u001b[1;32m      6\u001b[0m \u001b[38;5;28;01mfrom\u001b[39;00m \u001b[38;5;21;01mutils\u001b[39;00m \u001b[38;5;28;01mimport\u001b[39;00m train_utils  \u001b[38;5;66;03m# Replace 'train_utils' with your training utility functions\u001b[39;00m\n\u001b[1;32m      8\u001b[0m \u001b[38;5;66;03m# Set device (GPU if available, else CPU)\u001b[39;00m\n",
      "\u001b[0;31mModuleNotFoundError\u001b[0m: No module named 'model'"
     ]
    }
   ],
   "source": [
    "import torch\n",
    "from torch.utils.data import DataLoader\n",
    "from torchvision import transforms\n",
    "# from dataset import CustomDataset  # Replace 'CustomDataset' with your dataset implementation\n",
    "from model import YOLOv5  # Replace 'YOLOv5' with your model implementation\n",
    "from utils import train_utils  # Replace 'train_utils' with your training utility functions\n",
    "\n",
    "# Set device (GPU if available, else CPU)\n",
    "device = torch.device('cuda' if torch.cuda.is_available() else 'cpu')\n",
    "\n",
    "# Hyperparameters\n",
    "batch_size = 16\n",
    "learning_rate = 0.001\n",
    "num_epochs = 20\n",
    "\n",
    "# Data Augmentation and Preprocessing\n",
    "transform = transforms.Compose([\n",
    "    transforms.Resize((416, 416)),  # Resize images to input size of YOLOv5\n",
    "    transforms.ToTensor(),  # Convert image to tensor\n",
    "    # Add more data augmentation techniques here (e.g., RandomCrop, RandomRotation, ColorJitter)\n",
    "])\n",
    "\n",
    "# Dataset and DataLoader\n",
    "train_dataset = CustomDataset(train=True, transform=transform)\n",
    "train_loader = DataLoader(train_dataset, batch_size=batch_size, shuffle=True)\n",
    "\n",
    "# Model Initialization\n",
    "model = YOLOv5(...)  # Initialize your YOLOv5 model here\n",
    "\n",
    "# Loss Function and Optimizer\n",
    "criterion = ...  # Define your loss function (e.g., nn.CrossEntropyLoss)\n",
    "optimizer = torch.optim.Adam(model.parameters(), lr=learning_rate)\n",
    "\n",
    "# Training Loop\n",
    "for epoch in range(num_epochs):\n",
    "    model.train()\n",
    "    total_loss = 0.0\n",
    "    \n",
    "    for images, targets in train_loader:\n",
    "        images, targets = images.to(device), targets.to(device)\n",
    "        \n",
    "        # Forward pass\n",
    "        outputs = model(images)\n",
    "        \n",
    "        # Calculate loss\n",
    "        loss = criterion(outputs, targets)\n",
    "        \n",
    "        # Backward pass and optimization\n",
    "        optimizer.zero_grad()\n",
    "        loss.backward()\n",
    "        optimizer.step()\n",
    "        \n",
    "        total_loss += loss.item()\n",
    "    \n",
    "    # Print epoch statistics\n",
    "    print(f'Epoch [{epoch+1}/{num_epochs}], Loss: {total_loss/len(train_loader):.4f}')\n",
    "    \n",
    "    # Optionally, perform model evaluation/validation after each epoch\n",
    "    # val_loss = evaluate_model(model, val_loader)\n",
    "    # print(f'Validation Loss: {val_loss:.4f}')\n",
    "    \n",
    "    # Optionally, adjust learning rate dynamically based on validation loss\n",
    "    # train_utils.adjust_learning_rate(optimizer, val_loss)\n",
    "\n",
    "# Save trained model\n",
    "torch.save(model.state_dict(), 'yolov5_smoke_detection.pth')\n",
    "print(\"Model trained and saved successfully!\")\n"
   ]
  },
  {
   "cell_type": "code",
   "execution_count": null,
   "metadata": {},
   "outputs": [],
   "source": []
  }
 ],
 "metadata": {
  "kernelspec": {
   "display_name": "smoke_env",
   "language": "python",
   "name": "python3"
  },
  "language_info": {
   "codemirror_mode": {
    "name": "ipython",
    "version": 3
   },
   "file_extension": ".py",
   "mimetype": "text/x-python",
   "name": "python",
   "nbconvert_exporter": "python",
   "pygments_lexer": "ipython3",
   "version": "3.11.7"
  }
 },
 "nbformat": 4,
 "nbformat_minor": 2
}
